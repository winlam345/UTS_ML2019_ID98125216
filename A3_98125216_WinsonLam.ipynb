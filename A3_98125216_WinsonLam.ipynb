{
  "nbformat": 4,
  "nbformat_minor": 0,
  "metadata": {
    "colab": {
      "name": "A3-98125216-WinsonLam.ipynb",
      "provenance": [],
      "include_colab_link": true
    },
    "kernelspec": {
      "name": "python3",
      "display_name": "Python 3"
    }
  },
  "cells": [
    {
      "cell_type": "markdown",
      "metadata": {
        "id": "view-in-github",
        "colab_type": "text"
      },
      "source": [
        "<a href=\"https://colab.research.google.com/github/winlam345/UTS_ML2019_ID98125216/blob/master/A3_98125216_WinsonLam.ipynb\" target=\"_parent\"><img src=\"https://colab.research.google.com/assets/colab-badge.svg\" alt=\"Open In Colab\"/></a>"
      ]
    },
    {
      "cell_type": "markdown",
      "metadata": {
        "id": "cxodF2vOuIID",
        "colab_type": "text"
      },
      "source": [
        "#Assignment 3: Take Home Exam\n",
        "\n",
        "##Question:\n",
        "Marketing or advertising companies would be very interested in being able to predict whether a Twitter message will spread as meme or not, and even better, construct it so that it will spread. Why is this a hard problem to solve? Describe two approaches using data analytics to predict whether a tweet will go viral or not. How would you validate these approaches? Discuss the ethical and social consequence of this study.\n",
        "\n",
        "\n",
        "##Introduction\n",
        "Internet memes are small essences of popular culture that often begins as a simple idea that is shared between a small number of individuals before quickly spreading becoming larger and larger as it reaches others, until it becomes viral. During the spreading process, the initial idea will often be altered, parodied and evolve before ultimately being replaced by another meme.  Internet memes can take on various forms. They are highly structured pieces of data with unique style and formats. Internet memes are complex in that they communicate abstract concepts and expressions through multimodal literacy that is through different combination media types: text, images, animation, video and captions. \n",
        "\n",
        "The spread and form of memes coincides with the development of the internet. Initial popular memes were simple iterations of images with a top and bottom text forming the classic “image macro” format. But over time with the introduction of video hosting sites and social media, the forms of memes become broader as any parody, remix or comment of popular culture can more easily spread and become viral.\n",
        "\n",
        "One such social media platform is Twitter is which was launched in 2006. The service provides a platform for its users to communicate with each other through a series of small messages called “tweets”. A user can choose to create a tweet of up to 280 characters and an option to embedded link to a video, image or animation. After the tweet is posted, additional meta data such as username of creator and time of creation is added to the post. From there, it becomes visible to other users where they can perform additional actions in response. They can ‘like’ the tweet, retweet the tweet or comment on the original tweet with their own created tweet. This information of other user actions is shown on the original tweet.\n",
        "\n",
        "\n",
        "##Challenges\n",
        "### Handling Data\n",
        "In order to generate a twitter message, it is important to understand key attributes of what constitutes a viral meme. This is difficult as memes in their nature can take on many forms and are often combination of different media types of video, images and text. This highly varied dataset with possible high dimensional attributes creates a very large data space for a machine learning algorithm to search through to find a solution. Working with high dimensional data introduces stress on the requirements of time and computational power. \n",
        "\n",
        "### Data Collection and Extraction\n",
        "Outside of what attributes constitutes a meme, many other abstract factors can contribute to a spreading a meme to make it viral. Difficulty comes in how to express and captures those factors as quantitative or qualitative data. For example, Weng, Menczer and Ahn (2014) discusses in their paper outside of a meme’s content, human behaviour and preferences plays a huge role in contributing to how effectively a meme is spread. Specific user information is not easily obtainable from the twitter platform outside of general demographics. This process to source user information in itself is time consuming and costly but the ability effectively summarise user information and interaction is an open problem of itself. \n",
        "\n",
        "##Approaches\n",
        "One method to the proposed problem is to reframe the question from binary classification task of predicting whether a tweet will go viral into a regression task of predicting the amount of community and user interaction that tweet will generate. The specific target attributes that will represent community and user interaction are the amount of retweets, comments and likes. This approach is similar to the work of Pinto, M. Almeida and A. Goncalves (2013) who predicted the future popularity of YouTube videos by predicting future viewer count after specified time period and comparing the predicted values with the actual viewer count. Before that, the dataset must be obtained to perform the regression task. Tweet information can be accessed through the Twitter Engagement API that provides ability to retrieve specific number of favorites, retweets, comments over a time period other information including tweet object that includes characters and attached media links. This information should be collected over an extended period of half a year, to collect many data samples. The dataset will form the training, cross validation and test data to train the models. Multivariate regression is an appropriate regression algorithm as it can be used to predict multiple values of different target attributes from the dataset. Multivariate regression can build models that show advertising companies the contribution each attribute of tweet can contribute to its popularity. The model accuracy can be calculated through squared error value where average squared amount of predicted target attributes are subtracted from the actual retweet, comment and like count after a certain time period. Having a lower squared error value closer to zero indicated a stronger prediction power of the model. In terms of feasibility this approach is rather practical where all dependant attribute data can be acquired through the twitter API. The values of retweet, comments and like count are appropriate values to represent user and community iteration as Weng, L., Menczer, F. and Ahn, Y (2014) used similar data to study the effects of message propagation network structure like twitter.\n",
        "\n",
        "Another approach to the problem would be to focus on machine generated tweets. This approach would require the use of machine learning techniques to produce the 280-character limit message and embedded image in a tweet. Previous work to generate viral content include Weng, Menczer and Ahn (2015) research of using natural language processing and computer vision to understand features of historic popular memes and to use that understanding to produce generated images and embedded text that are indistinguishable to memes. To adapt Weng, Menczer and Ahn (2015) approach, we substitute popular tweets taken from twitter API instead of popular memes as the dataset. The tweet messages and images in the dataset will be separated and key textural and visual features will be recorded into the dataset respectively. Key features to be identified in dataset include: syntactic dependencies, part-of-speech and lexical features and named entities(famous names and important entities and objects to represent each image. The features then are passed into a nonparanormal model that ranks each feature with a value between 0 and 1. Next the values are passed into a parametric Gaussian copula model that find correlations both text and visual features. To generate new tweets, random images can be passed through Gaussian copula model where it will be mapped appropriate textual features according to visual features found. This approach is less practical than the regression method as it required high pre-processing of the dataset but in theory the input data of popular tweets can substitute popular memes and as long as methodology outlined by Weng, Menczer and Ahn (2015) is followed machine generated tweets can be produced.\n",
        "\n",
        "\n",
        "##Ethical and Social Implications\n",
        "With the widespread adoption of technology and the reliance on web-based service, more people are relying on online content for social interaction and information consumption. Using machine learning techniques that the ability to predict and construct content that will be seen by many people can have many different applications and uses. Social and ethical issues can arise during the misuse of these techniques.\n",
        "\n",
        "One such use of the ability to predict and construct a twitter message that will become viral is to spread information to many individuals. Practical uses include advertising companies building viral advertisement campaigns to build interest and attention to a product they are selling. Social and ethical issues arise when such twitter messages are used to spread misinformation and propaganda. Malicious parties can use these techniques to spread slander campaigns and sway public opinion on certain topics such as politics. This situation can also extend to a form of censorship where entities that have these machine learning techniques spread information to suppress others that cannot construct messages that will become viral.\n",
        "\n",
        "Another concern of models that can predict and construct content that will become viral typically rely on user information. This will inevitably raise the issue of privacy. As more companies and corporations start implementing these techniques, they will be required to source user information. At the beginning it will be just publicly available information and meta data. But as competition between different groups to create the most viral message increases obtaining confidential information is encouraged. \n",
        "\n",
        "Outside the misuse of the ability to create viral messages, these machine techniques in an abstract sense have a level of understanding of human culture. This knowledge can further be built upon to model and study societal and human behaviour. \n",
        "\n",
        "\n",
        "\n",
        "##REFERENCES\n",
        "\n",
        "De, Shaunak & Maity, Abhishek & Goel, Vritti & Shitole, Sanjay & Bhattacharya, Avik. (2017). Predicting the Popularity of Instagram Posts for a Lifestyle Magazine Using Deep Learning. 10.1109/CSCITA.2017.8066548.\n",
        "\n",
        "Twitter. (2013). [online] Available at: https://developer.twitter.com/en/developer-terms/agreement-and-policy.html [Accessed 3 Oct. 2019].\n",
        "\n",
        "Pinto, Henrique & Almeida, Jussara & Gonçalves, Marcos. (2013). Using early view patterns to predict the popularity of YouTube videos. WSDM 2013 - Proceedings of the 6th ACM International Conference on Web Search and Data Mining. 10.1145/2433396.2433443.\n",
        "\n",
        "Szabo, G. and A. Huberman, B. (2008). Predicting the popularity of online content.\n",
        "\n",
        "Tan, C., Lee, L. and Pang, B. (2014). The effect of wording on message propagation: Topic- and author-controlled natural experiments on Twitter. Proceedings of the 52nd Annual Meeting of the Association for Computational Linguistics, pp.175-185.\n",
        "\n",
        "Weng, L., Menczer, F. and Ahn, Y. (2015). Predicting Successful Memes using Network and Community Structure. Proceedings of the Eighth International AAAI Conference on Weblogs and \n",
        "\n",
        "Yang Wang, W. and Wen, M. (2015). I Can Has Cheezburger? A Nonparanormal Approach to Combining Textual and Visual Information for Predicting and Generating Popular Meme Descriptions. Proceedings of the 2015 Conference of the North American Chapter of the Association for Computational Linguistics: Human Language Technologies, pp.355-365.\n"
      ]
    },
    {
      "cell_type": "code",
      "metadata": {
        "id": "MOvLkVTYuX2V",
        "colab_type": "code",
        "colab": {}
      },
      "source": [
        ""
      ],
      "execution_count": 0,
      "outputs": []
    }
  ]
}