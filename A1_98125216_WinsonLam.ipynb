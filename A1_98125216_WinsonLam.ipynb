{
  "nbformat": 4,
  "nbformat_minor": 0,
  "metadata": {
    "colab": {
      "name": "A1-98125216-WinsonLam.ipynb",
      "version": "0.3.2",
      "provenance": [],
      "include_colab_link": true
    },
    "kernelspec": {
      "name": "python3",
      "display_name": "Python 3"
    }
  },
  "cells": [
    {
      "cell_type": "markdown",
      "metadata": {
        "id": "view-in-github",
        "colab_type": "text"
      },
      "source": [
        "<a href=\"https://colab.research.google.com/github/winlam345/UTS_ML2019_ID98125216/blob/master/A1_98125216_WinsonLam.ipynb\" target=\"_parent\"><img src=\"https://colab.research.google.com/assets/colab-badge.svg\" alt=\"Open In Colab\"/></a>"
      ]
    },
    {
      "cell_type": "markdown",
      "metadata": {
        "id": "QllP_KneL-N9",
        "colab_type": "text"
      },
      "source": [
        "<H1>Review Report on Generative Adversarial Nets</**H1**>"
      ]
    },
    {
      "cell_type": "markdown",
      "metadata": {
        "id": "aBKJZunIH_Y0",
        "colab_type": "text"
      },
      "source": [
        "<h2>Introduction</h2>\n",
        "\n",
        "In the research article \"Generative Adversarial Nets\", a group of researchers at the University of Montreal, Ian J. Goodfellow, Jean Poguet- Abadle, Mehdi Mirza, Bing Xu, David warde-Farley, Sherjil Ozair, Aaron Courvill and Youshua Benglo, propose a new machine learning technique called generative adversarial nets that is based on the concept of adversarial framework . The paper also provides experimentation and proofs that GANs are an effective generative model. This report will aim to build an understanding of GANs and its contribution to machine learning and present relevant critiques and further comments.\n"
      ]
    },
    {
      "cell_type": "markdown",
      "metadata": {
        "id": "ua3ARNf7Qsze",
        "colab_type": "text"
      },
      "source": [
        "<H2>Content</h2>\n",
        "\n",
        "Generative Adversarial networks or GANs belong to a class of generative models which themselves belong to unsupervised learning techniques. Generative models accept high dimensional data as inputs with the goal of training models that can capture and build a sense of understanding of features within that tremendous amount of information. The model can be used to produce its own high dimensional random samples that share a realistic distribution of information that can be used for other applications.\n",
        "\n",
        "The researchers agree that this is ultimate goal of deep learning and that as of the paper publication, other generative models are as their are limitations to methods that can be applied to generative models at the time. This is in contrast with the progress of discriminative models where methods like backpropagation, dropout algorithms and use of piecewise linear units can be readily used. (Goodfellow et al., 2019)\n",
        "\n",
        "The researchers propose GAN as an alternative solution, in particular the adversarial framework and how it’s procedure can train effective generative models using of backpropagation, forward propagation and dropout algorithms.\n",
        "\n",
        "The adversarial framework can be understood as a two-player game. Given this scenario, player one’s goal is to develop methods produce ‘fakes’ to trick the other player. While player two’s goal is to develop methods to see through those ‘fakes.’ In this game, both players are forced to perform as well as possible given the worst possible scenario. As a result, overtime both players and their methods will improve to a certain point where player one is able to produce fakes that are so effective that player two cannot distinguish it from reality. At this point, player one’s methods can be extracted from the scenario of the game and be used in other applications and effectively a generative model is produced.\n",
        "\n",
        "More formally, generative adversarial networks create generative models by adversarially training two neutral network models called the discriminator(D) and generator(G) respectively. \n",
        "\n",
        "The generator (G) takes a vector of random noise called z as input. Z is a source of randomness that allows the generator to generate many different outputs. The generator is a differential function controlled by a set of parameters represented by θ<sup>G</sup> that obtains a value G(z). The output G(z) is generated sample that is hopefully captures the data distribution of training set to but may contain errors. While the discriminator(D) is also differentiable function with parameters represented by θ<sup>D</sup>. The discriminator accepts both real samples from the training set called x and generated samples called G(z). The discriminator function will try to classify the x as authentic and g(z) as fake by detecting errors. \n",
        "\n",
        "The two models are then trained simultaneously through several iterations where within each cycle, both generator’s and discriminator’s parameters are updated so that D maximises the probability of correctly assigning labels to training samples and generated samples, while G minimises that probability. Both D and G are formally engaged in a two-player minimax game. Given, an optimal scenario, both D and G can improve to such a point where the generator distribution is indistinguishable to the data distribution and the discriminator cannot differentiate them but only guess. An effective generative model is created. \n"
      ]
    },
    {
      "cell_type": "markdown",
      "metadata": {
        "id": "XVI3iJAhSA7a",
        "colab_type": "text"
      },
      "source": [
        "<h2>Innovation</h2>\n",
        "\n",
        "The research presented in this paper is the first instance and introduction of the adversarial framework in a deep learning/machine learning environment. This idea of training two simultaneous models with conflicting goals against each other would spawn a new machine learning method called Generative Adversarial Networks. It was work the researchers of this paper, that proved that this methodology is sound and effective. This work would further be developed upon, improvements to GAN and its new variations would build a new branch of machine learning techniques.\n",
        "\n",
        "The conception of GANS was unique in the sense that the underlying concept of adversarial framework was very understandable and simplistic. As a student, the idea of competition between two players in counterfeit game would drive improvement was very intuitive and it helped in the understanding of how two models would be trained during generative adversarial Nets. This unique learning process was innovative in the sense that it was able to capture an aspect of natural learning within humans and apply it the machine learning. \n"
      ]
    },
    {
      "cell_type": "markdown",
      "metadata": {
        "id": "O7ZLEtoSSGNa",
        "colab_type": "text"
      },
      "source": [
        "<h2>Technical Quality</h2>\n",
        "\n",
        "The documentation of the experiments and testing of generative adversarial networks against other generative models is quite poor. There is no explanation on the background of the datasets that were to by used for training the various generative models. There is no explicit mention that the dataset was split into a training, validation and test set, only inferred.  No description of any data pre-processing methods or lack there off onto the training data were provided. The information on the methodology of how generative adversarial networks will tested is quite brief. But information on how the methodology to test other generative models where not mentioned. Although identifying a main comparison variable of probability of test data by passing test samples of the generator model through a Gaussian Parzen window is sound experimentational methodology. Thus, any conclusions cannot made for certain for the results of the other generative models."
      ]
    },
    {
      "cell_type": "markdown",
      "metadata": {
        "id": "x-zT5QZYSQXl",
        "colab_type": "text"
      },
      "source": [
        "<H2>Application and X-factor</h2>\n",
        "\n",
        "Generative Adversarial networks are very useful in that can generate almost real samples of data that captures the authentic data distribution with just random noise as inputs. Within this paper, GANs were trained on main datasets of images of faces, hand-written numbers and various images. The GAN models were able to show that they could produce believable visual samples and showed that GANs were able form high dimensional understanding. Considering that this the first introduction to GANs, more recent developments in model and applications are being developed. \n",
        "\n",
        "One application was image to image translation which involves taking the input is a template image and generating a new output image that includes primary characterises of another image into the template. This can be used to create road maps from satellite photos and turn sketches of objects that simulated real life photos. \n",
        "\n",
        "Super resolution is the use of GANs to take low resolution images and generate a high-resolution equivalent. This may be used in help court of law and extract extra information of images to be used as evidence.\n",
        "\n",
        "Video generation using GANs is another application where the model can estimate future frames and poses of an object based on hidden representations of the object the model has learned. This can be used to for simulation purposes. \n",
        "\n",
        "Other interesting concepts that can be used by GANs is z vector arithmetic. Here the z vectors inputs of the generator of GANs are thought of randomly selected points in a dimensional space. As the generator learns, it builds a mapping of that space. As a result, nearby points in that dimensional space that are input into the generator will usually produce similar samples of data distribution. Using this concept for image generation, arithmetic with z vectors is possible. For example, if z-vector that produces an image of a man with sunglasses is subtracted with another z-vector that produces an image of just a man is then added with third z vector that produces a woman. The generator will produce images of women with sunglasses.\n",
        "\n",
        "GANs are fascinating to research because of the serious ethical and legal implications of when GAN techniques are used by a malicious party. The ability to theoretically generate samples of data like images, sound and video that are so realistic can be used to perfectly impersonate individuals given enough sample data. A malicious agent may use this form of impersonation to perform identify theft on the individual themselves or attack others without repercussion. Even worse, they frame the individual for actions or opinions that person does not share or even know existed. GAN can generate fake surveillance video of a crime, fake audio confessions or plant evidence within a photo to be used in court in a crime investigation. \n",
        "\n",
        "Questions and discussions of the implications must be answered when the discriminator model in GAN cannot decide if a sample is fake or real and must guess. Recently the phenomena of ‘deep fake’ occurred in which the application of generative adversarial networks was used to superimpose image of celebrities and public figures in precarious videos. This event in the public eye, raised concerns that no existing laws currently exists that enforce what acceptable. Instead parts of the online communities took it upon themselves to regulate, banning inappropriate use and restricting the application of GAN for certain criteria of media. More discussion of the applications GAN and regulations and security need to be further explored in government, educational institutions and in public.\n",
        "\n",
        "\n",
        "\n"
      ]
    },
    {
      "cell_type": "markdown",
      "metadata": {
        "id": "63iRsbI5UP6N",
        "colab_type": "text"
      },
      "source": [
        "<h2>Presentation</h2>\n",
        "\n",
        "The overall structure of this research paper is very clear and concise in its communication and introduction of generative adversarial networks. By splitting the content of the report into main sections of the abstract, introduction, related works, explanation of adversarial networks, theoretical proofs, experiments, advantages and disadvantages and conclusion, the paper follows closely academic paper structure and subsequently follows a standard organisation of logical flow. As such the paper was easy to read.  An example of this logical flow is that the main concepts generative adversarial networks were explained before more technical proofs and experimentation results were discussed. The explanation of on the concepts of adversarial training did not require any previous technical knowledge to understand and its translation into a machine learning application was thus easy to grasp. But the more technical sections of the paper that included proof that concluded that adversarial training and thus generative adversarial networks were a sound technique were harder to understand. An addition of an appendix section would prove useful for provide background information on the mathematical concepts of the Kullbakc-Leibler divergence and Jensen-Shannon divergence. The inclusion of figures its explanations was also contributed to the sound presentation of the paper. Such figures showed communicated the results and effect of GANs in an alternative format. The overall size of the paper was short comparatively to other machine learning research papers, but \"Generative Adversarial Nets\", by Ian J. Goodfellow, Jean Poguet- Abadle, Mehdi Mirza, Bing Xu, David warde-Farley, Sherjil Ozair, Aaron Courvill and Youshua Benglo still an important paper for machine learning.\n",
        "\n"
      ]
    },
    {
      "cell_type": "markdown",
      "metadata": {
        "id": "-ig5_4E1Lj4h",
        "colab_type": "text"
      },
      "source": [
        "<h2>References</h2>\n",
        "\n",
        "Skymind. (2019). A Beginner's Guide to Generative Adversarial Networks (GANs). [online] Available at: https://skymind.ai/wiki/generative-adversarial-network-gan?source=---------2------------------ \n",
        "\n",
        "Goodfellow, I., Pouget-Abadie, J., Mirza, M., Xu, B., Warde-Farley, D., Ozair, S., Courville, A. and Bengio, Y. (2019). Generative Adversarial Nets.\n",
        "\n",
        "Hunt, E. (2019). Deepfake danger: what a viral clip of Bill Hader morphing into Tom Cruise tells us. [online] the Guardian. Available at: https://www.theguardian.com/news/shortcuts/2019/aug/13/danger-deepfakes-viral-video-bill-hader-tom-cruise \n",
        "\n",
        "Lathia, K. (2018). Generative Adversarial Networks: Outline and its Use Cases. International Journal for Research in Applied Science and Engineering Technology, 6(7), pp.530-536.\n",
        "\n",
        "Medium. (2019). Understanding Generative Adversarial Networks (GANs). [online] Available at: https://towardsdatascience.com/understanding-generative-adversarial-networks-gans-cd6e4651a29\n",
        "\n"
      ]
    },
    {
      "cell_type": "code",
      "metadata": {
        "id": "s3bnbzuDV2Yk",
        "colab_type": "code",
        "colab": {}
      },
      "source": [
        ""
      ],
      "execution_count": 0,
      "outputs": []
    }
  ]
}